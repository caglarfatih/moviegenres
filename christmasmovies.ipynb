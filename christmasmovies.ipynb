{
 "cells": [
  {
   "cell_type": "code",
   "execution_count": 111,
   "metadata": {},
   "outputs": [],
   "source": [
    "import pandas as pd"
   ]
  },
  {
   "cell_type": "code",
   "execution_count": 112,
   "metadata": {},
   "outputs": [],
   "source": [
    "def read_list(filename):\n",
    "    listwithlist = []\n",
    "    with open(filename,'r', encoding='utf 8') as file:\n",
    "        christmas=file.read()\n",
    "        lines = christmas.splitlines()\n",
    "        for l in lines[1:]:\n",
    "            line = l.split(\"\\n\")\n",
    "            listwithlist.append(line)\n",
    "    return listwithlist"
   ]
  },
  {
   "cell_type": "code",
   "execution_count": 113,
   "metadata": {},
   "outputs": [
    {
     "name": "stdout",
     "output_type": "stream",
     "text": [
      "[[\"It's a Wonderful Life;1946;Frank Capra;https://www.imdb.com/title/tt0038650/;movie;130;8,6;462110;Drama, Family, Fantasy, Romance\"], ['Die Hard;1988;John McTiernan;https://www.imdb.com/title/tt0095016/;movie;132;8,2;883261;Action, Thriller'], ['Scrooge;1951;Brian Desmond Hurst;https://www.imdb.com/title/tt0044008/;movie;86;8,1;23964;Drama, Family, Fantasy'], ['Home Alone;1990;Chris Columbus;https://www.imdb.com/title/tt0099785/;movie;103;7,7;585534;Comedy, Family'], ['Rudolph the Red-Nosed Reindeer;1964;Larry Roemer;https://www.imdb.com/title/tt0058536/;tvMovie;47;8;33793;Animation, Adventure, Comedy, Family, Fantasy, Musical'], [\"National Lampoon's Christmas Vacation;1989;Jeremiah S. Chechik;https://www.imdb.com/title/tt0097958/;movie;97;7,5;199040;Comedy\"], ['A Christmas Story;1983;Bob Clark;https://www.imdb.com/title/tt0085334/;movie;93;7,9;158174;Comedy, Family'], ['Miracle on 34th Street;1947;George Seaton;https://www.imdb.com/title/tt0039628/;movie;96;7,9;50468;Comedy, Drama, Family'], ['Elf;2003;Jon Favreau;https://www.imdb.com/title/tt0319343/;movie;97;7,1;280105;Adventure, Comedy, Family, Fantasy, Romance'], ['Gremlins;1984;Joe Dante;https://www.imdb.com/title/tt0087363/;movie;106;7,3;228703;Comedy, Fantasy, Horror'], ['Bad Santa;2003;Terry Zwigoff;https://www.imdb.com/title/tt0307987/;movie;92;7,1;147064;Comedy, Crime, Drama'], ['Edward Scissorhands;1990;Tim Burton;https://www.imdb.com/title/tt0099487/;movie;105;7,9;494511;Drama, Fantasy, Romance'], ['Scrooged;1988;Richard Donner;https://www.imdb.com/title/tt0096061/;movie;101;6,9;106122;Comedy, Drama, Fantasy, Romance'], ['Trading Places;1983;John Landis;https://www.imdb.com/title/tt0086465/;movie;116;7,5;154394;Comedy'], ['The Santa Clause;1994;John Pasquin;https://www.imdb.com/title/tt0111070/;movie;97;6,5;122829;Comedy, Drama, Family, Fantasy'], ['A Charlie Brown Christmas;1965;Bill Melendez;https://www.imdb.com/title/tt0059026/;tvMovie;25;8,3;39786;Animation, Comedy, Drama, Family, Music'], ['Joyeux NoÃ«l;2005;Christian Carion;https://www.imdb.com/title/tt0424205/;movie;116;7,7;30374;Drama, History, Music, Romance, War'], ['The Nightmare Before Christmas;1993;Henry Selick;https://www.imdb.com/title/tt0107688/;movie;76;7,9;344517;Animation, Family, Fantasy, Musical'], ['Happiest Season;2020;Clea DuVall;https://www.imdb.com/title/tt8522006/;movie;102;6,6;42110;Comedy, Drama, Romance'], ['The Shop Around the Corner;1940;Ernst Lubitsch;https://www.imdb.com/title/tt0033045/;movie;99;8;34551;Comedy, Drama, Romance'], ['Love Actually;2003;Richard Curtis;https://www.imdb.com/title/tt0314331/;movie;135;7,6;492719;Comedy, Drama, Romance'], ['A Christmas Story Christmas;2022;Clay Kaytis;https://www.imdb.com/title/tt17220704/;movie;98;6,8;14061;Comedy, Family'], ['Silent Night;2002;Rodney Gibbons;https://www.imdb.com/title/tt0338434/;tvMovie;100;7,5;1726;Biography, Drama, War'], ['The Polar Express;2004;Robert Zemeckis;https://www.imdb.com/title/tt0338348/;movie;100;6,6;215471;Animation, Adventure, Comedy, Family, Fantasy, Musical'], ['Violent Night;2022;Tommy Wirkola;https://www.imdb.com/title/tt12003946/;movie;112;6,8;38214;Action, Comedy, Crime, Fantasy, Thriller'], ['The Christmas Chronicles;2018;Clay Kaytis;https://www.imdb.com/title/tt2990140/;movie;104;7;76432;Adventure, Comedy, Family, Fantasy'], ['The Family Man;2000;Brett Ratner;https://www.imdb.com/title/tt0218967/;movie;125;6,8;112519;Comedy, Drama, Fantasy, Romance'], ['8-Bit Christmas;2021;Michael Dowse;https://www.imdb.com/title/tt11540284/;movie;97;6,7;18524;Comedy, Family'], ['Better Watch Out;2016;Chris Peckover;https://www.imdb.com/title/tt4443658/;movie;89;6,5;40522;Comedy, Horror, Thriller'], ['The Night Before;2015;Jonathan Levine;https://www.imdb.com/title/tt3530002/;movie;101;6,4;77490;Comedy, Fantasy'], ['Remember the Night;1940;Mitchell Leisen;https://www.imdb.com/title/tt0032981/;movie;94;7,6;6228;Comedy, Drama, Romance'], ['Batman Returns;1992;Tim Burton;https://www.imdb.com/title/tt0103776/;movie;126;7,1;308142;Action, Crime, Fantasy'], ['Black Christmas;1974;Bob Clark;https://www.imdb.com/title/tt0071222/;movie;98;7,1;43011;Horror, Mystery, Thriller'], ['How the Grinch Stole Christmas!;1966;Ben Washam, Chuck Jones;https://www.imdb.com/title/tt0060345/;tvMovie;26;8,3;53787;Animation, Comedy, Family, Fantasy, Musical'], ['The Ref;1994;Ted Demme;https://www.imdb.com/title/tt0110955/;movie;97;6,9;25390;Comedy, Crime, Drama'], ['Last Christmas;2019;Paul Feig;https://www.imdb.com/title/tt8623904/;movie;103;6,5;81658;Comedy, Drama, Fantasy, Romance'], ['Krampus;2015;Michael Dougherty;https://www.imdb.com/title/tt3850590/;movie;98;6,2;77319;Comedy, Drama, Fantasy, Horror'], ['A Boy Called Christmas;2021;Gil Kenan;https://www.imdb.com/title/tt10187208/;movie;106;6,7;23697;Adventure, Drama, Family, Fantasy'], ['Prancer;1989;John D. Hancock;https://www.imdb.com/title/tt0098115/;movie;103;6,4;5830;Drama, Family, Fantasy'], ['Shazam!;2019;David F. Sandberg;https://www.imdb.com/title/tt0448115/;movie;132;7;340652;Action, Adventure, Comedy, Fantasy'], ['Jingle All the Way;1996;Brian Levant;https://www.imdb.com/title/tt0116705/;movie;89;5,7;107622;Adventure, Comedy, Family'], ['White Christmas;1954;Michael Curtiz;https://www.imdb.com/title/tt0047673/;movie;120;7,5;45778;Comedy, Musical, Romance'], ['The Year Without a Santa Claus;1974;Jules Bass, Arthur Rankin Jr.;https://www.imdb.com/title/tt0072424/;tvMovie;51;7,7;10550;Animation, Comedy, Family, Fantasy, Musical'], ['Suzumiya Haruhi no shÃ´shitsu;2010;Yasuhiro Takemoto, Tatsuya Ishihara;https://www.imdb.com/title/tt1572781/;movie;162;8;7442;Animation, Drama, Family, Mystery, Romance, Sci-Fi'], ['Lovely, Still;2008;Nik Fackler;https://www.imdb.com/title/tt1150947/;movie;92;7,1;2319;Drama, Romance'], [\"Santa Claus Is Comin' to Town;1970;Jules Bass, Arthur Rankin Jr.;https://www.imdb.com/title/tt0066327/;tvMovie;48;7,7;15936;Animation, Adventure, Comedy, Family, Fantasy, Musical\"], [\"The Bishop's Wife;1947;Henry Koster;https://www.imdb.com/title/tt0039190/;movie;109;7,6;18934;Comedy, Drama, Fantasy, Romance\"], ['Just Friends;2005;Roger Kumble;https://www.imdb.com/title/tt0433400/;movie;96;6,2;120362;Comedy, Romance'], ['The Snowman;1982;Dianne Jackson, Jimmy T. Murakami;https://www.imdb.com/title/tt0084701/;tvMovie;26;8,2;15422;Animation, Family, Fantasy'], ['Surviving Christmas;2004;Mike Mitchell;https://www.imdb.com/title/tt0252028/;movie;91;5,4;25790;Comedy, Romance'], ['The Little Drummer Boy;1968;Takeya Nakamura, Jules Bass, Arthur Rankin Jr.;https://www.imdb.com/title/tt0063230/;tvMovie;25;7;5907;Animation, Drama, Family, Fantasy, Musical'], ['Serendipity;2001;Peter Chelsom;https://www.imdb.com/title/tt0240890/;movie;90;6,8;114961;Comedy, Romance'], ['The House Without a Christmas Tree;1972;Paul Bogart;https://www.imdb.com/title/tt0068720/;tvMovie;75;8;846;Drama, Family'], ['The Nativity Story;2005;Catherine Hardwicke;https://www.imdb.com/title/tt0762121/;movie;101;6,8;11907;Adventure, Drama, Family, Fantasy, History, Romance'], ['Christmas in Boston;2005;Neill Fearnley;https://www.imdb.com/title/tt0497025/;tvMovie;90;6,1;2332;Comedy, Romance'], ['Un conte de NoÃ«l;2008;Arnaud Desplechin;https://www.imdb.com/title/tt0993789/;movie;152;7;7278;Comedy, Drama'], ['Christmas in Connecticut;1945;Peter Godfrey;https://www.imdb.com/title/tt0037595/;movie;101;7,3;10714;Comedy, Romance'], ['Fatman;2020;Eshom Nelms, Ian Nelms;https://www.imdb.com/title/tt10310140/;movie;100;5,9;26728;Action, Adventure, Comedy, Fantasy, Sci-Fi, Thriller'], ['Noel;2004;Chazz Palminteri;https://www.imdb.com/title/tt0383534/;movie;96;6,1;10107;Drama'], ['Christmas with the Kranks;2004;Joe Roth;https://www.imdb.com/title/tt0388419/;movie;99;5,4;52592;Comedy, Family'], ['Holiday Affair;1949;Don Hartman;https://www.imdb.com/title/tt0041473/;movie;87;7,1;6257;Comedy, Drama, Family, Romance'], ['Arthur Christmas;2011;Barry Cook, Sarah Smith;https://www.imdb.com/title/tt1430607/;movie;97;7,1;62059;Animation, Adventure, Comedy, Drama, Family, Fantasy'], ['Crown for Christmas;2015;Alex Zamm;https://www.imdb.com/title/tt5133572/;tvMovie;86;6,9;5123;Comedy, Drama, Family, Romance'], ['One Magic Christmas;1985;Phillip Borsos;https://www.imdb.com/title/tt0089731/;movie;89;6,4;4053;Family, Fantasy'], ['Beyond Tomorrow;1940;A. Edward Sutherland;https://www.imdb.com/title/tt0032247/;movie;84;6,5;2042;Drama, Fantasy, Romance'], ['12 Dates of Christmas;2011;James Hayman;https://www.imdb.com/title/tt1846442/;tvMovie;90;6,3;7316;Comedy, Family, Fantasy, Romance'], [\"Kristin's Christmas Past;2013;Jim Fall;https://www.imdb.com/title/tt3043594/;tvMovie;86;6,2;1212;Comedy, Family, Fantasy, Romance\"], ['The Lemon Drop Kid;1951;Frank Tashlin, Sidney Lanfield;https://www.imdb.com/title/tt0043733/;movie;91;7;2078;Comedy, Crime, Music, Romance'], ['The Christmas Card;2006;Stephen Bridgewater;https://www.imdb.com/title/tt0783494/;tvMovie;84;6,9;4240;Drama, Romance'], ['12 Days of Giving;2017;Christine Conradt;https://www.imdb.com/title/tt6303962/;tvMovie;87;6;1004;Comedy, Drama, Family, Romance'], ['It Happened on Fifth Avenue;1947;Roy Del Ruth;https://www.imdb.com/title/tt0039502/;movie;116;7,6;5671;Comedy, Music, Romance'], ['A Very Harold & Kumar 3D Christmas;2011;Todd Strauss-Schulson;https://www.imdb.com/title/tt1268799/;movie;90;6,2;70650;Adventure, Comedy'], ['Operation Christmas Drop;2020;Martin Wood;https://www.imdb.com/title/tt13236566/;movie;95;5,8;12132;Comedy, Family, Romance'], ['Trapped in Paradise;1994;George Gallo;https://www.imdb.com/title/tt0111477/;movie;111;5,9;15583;Adventure, Comedy, Crime, Romance'], ['Nativity!;2009;Debbie Isitt;https://www.imdb.com/title/tt1242447/;movie;105;6,4;11437;Comedy, Family'], ['Holiday in Handcuffs;2006;Ron Underwood;https://www.imdb.com/title/tt0938666/;tvMovie;86;6,1;6904;Comedy, Drama, Family, Romance, Thriller'], ['Frosty the Snowman;1969;Jules Bass, Arthur Rankin Jr.;https://www.imdb.com/title/tt0064349/;tvShort;25;7,3;19666;Animation, Short, Comedy, Family, Fantasy, Musical'], ['Mixed Nuts;1994;Nora Ephron;https://www.imdb.com/title/tt0110538/;movie;97;5,4;12422;Comedy, Drama'], ['Mrs. Miracle;2009;Michael M. Scott;https://www.imdb.com/title/tt1431115/;tvMovie;90;6,6;3046;Comedy, Family, Fantasy, Romance'], ['Nothing Like the Holidays;2008;Alfredo Rodriguez de Villa;https://www.imdb.com/title/tt1151915/;movie;98;6,1;4330;Comedy, Drama, Romance'], ['Friday After Next;2002;Marcus Raboy;https://www.imdb.com/title/tt0293815/;movie;85;5,8;28465;Comedy, Drama'], ['Next Stop, Christmas;2021;Dustin Rikert;https://www.imdb.com/title/tt15412176/;tvMovie;84;7;2206;Comedy, Drama, Fantasy, Romance'], [\"Pete's Christmas;2013;Nisha Ganatra;https://www.imdb.com/title/tt3004544/;tvMovie;86;6;1950;Comedy, Drama, Family, Fantasy\"], ['November Christmas;2010;Robert Harmon;https://www.imdb.com/title/tt1708658/;tvMovie;96;7,5;1930;Drama'], ['Deck the Halls;2006;John Whitesell;https://www.imdb.com/title/tt0790604/;movie;93;5;30148;Comedy, Family'], [\"I'll Be Home for Christmas;1998;Arlene Sanford;https://www.imdb.com/title/tt0155753/;movie;86;5,5;11116;Comedy, Family\"], ['A Boyfriend for Christmas;2004;Kevin Connor;https://www.imdb.com/title/tt0385567/;tvMovie;94;6,4;3320;Comedy, Drama, Family, Romance'], ['Four Christmases;2008;Seth Gordon;https://www.imdb.com/title/tt0369436/;movie;88;5,7;75061;Comedy, Drama, Romance'], ['The Most Wonderful Time of the Year;2008;Michael M. Scott;https://www.imdb.com/title/tt1327788/;tvMovie;88;7,3;4482;Comedy, Drama, Family, Romance'], [\"Grumpy Cat's Worst Christmas Ever;2014;Tim Hill;https://www.imdb.com/title/tt3801438/;tvMovie;87;5;2496;Action, Adventure, Comedy, Family\"], ['A Season for Miracles;1999;Michael Pressman;https://www.imdb.com/title/tt0226418/;tvMovie;100;7,6;1728;Drama, Romance'], ['The Christmas Shoes;2002;Andy Wolk;https://www.imdb.com/title/tt0330152/;tvMovie;100;6,6;2735;Drama, Family'], ['A Grandpa for Christmas;2007;Harvey Frost;https://www.imdb.com/title/tt0950740/;tvMovie;84;6,8;1254;Comedy, Drama'], ['Christmas Mail;2010;John Murlowski;https://www.imdb.com/title/tt1663628/;movie;89;5,3;1799;Comedy, Drama, Family, Romance'], [\"Ira Finkelstein's Christmas;2012;Sue Corcoran;https://www.imdb.com/title/tt1847615/;movie;100;5,4;580;Comedy, Family\"], ['Window Wonderland;2013;Michael M. Scott;https://www.imdb.com/title/tt2994382/;tvMovie;86;6,7;2246;Comedy, Drama, Romance'], ['Ernest Saves Christmas;1988;John R. Cherry III;https://www.imdb.com/title/tt0095107/;movie;95;5,7;11996;Comedy, Family, Fantasy'], ['All I Want for Christmas;1991;Robert Lieberman;https://www.imdb.com/title/tt0101301/;movie;92;5,9;5269;Comedy, Family, Romance'], ['The Ultimate Christmas Present;2000;Greg Beeman;https://www.imdb.com/title/tt0256466/;tvMovie;85;5,6;1833;Comedy, Family'], ['Jack Frost;1998;Troy Miller;https://www.imdb.com/title/tt0141109/;movie;101;5,4;38069;Comedy, Drama, Family, Fantasy']]\n"
     ]
    }
   ],
   "source": [
    "filename = 'christmasmovie.txt'\n",
    "christmasmovie = read_list(filename)\n",
    "print(christmasmovie)"
   ]
  },
  {
   "cell_type": "code",
   "execution_count": 120,
   "metadata": {},
   "outputs": [
    {
     "name": "stdout",
     "output_type": "stream",
     "text": [
      "Number of movies in the genre 'Comedy': 76\n",
      "[['Home Alone', '1990', 'Chris Columbus'], ['Rudolph the Red-Nosed Reindeer', '1964', 'Larry Roemer'], [\"National Lampoon's Christmas Vacation\", '1989', 'Jeremiah S. Chechik'], ['A Christmas Story', '1983', 'Bob Clark'], ['Miracle on 34th Street', '1947', 'George Seaton'], ['Elf', '2003', 'Jon Favreau'], ['Gremlins', '1984', 'Joe Dante'], ['Bad Santa', '2003', 'Terry Zwigoff'], ['Scrooged', '1988', 'Richard Donner'], ['Trading Places', '1983', 'John Landis'], ['The Santa Clause', '1994', 'John Pasquin'], ['A Charlie Brown Christmas', '1965', 'Bill Melendez'], ['Happiest Season', '2020', 'Clea DuVall'], ['The Shop Around the Corner', '1940', 'Ernst Lubitsch'], ['Love Actually', '2003', 'Richard Curtis'], ['A Christmas Story Christmas', '2022', 'Clay Kaytis'], ['The Polar Express', '2004', 'Robert Zemeckis'], ['Violent Night', '2022', 'Tommy Wirkola'], ['The Christmas Chronicles', '2018', 'Clay Kaytis'], ['The Family Man', '2000', 'Brett Ratner'], ['8-Bit Christmas', '2021', 'Michael Dowse'], ['Better Watch Out', '2016', 'Chris Peckover'], ['The Night Before', '2015', 'Jonathan Levine'], ['Remember the Night', '1940', 'Mitchell Leisen'], ['How the Grinch Stole Christmas!', '1966', 'Ben Washam, Chuck Jones'], ['The Ref', '1994', 'Ted Demme'], ['Last Christmas', '2019', 'Paul Feig'], ['Krampus', '2015', 'Michael Dougherty'], ['Shazam!', '2019', 'David F. Sandberg'], ['Jingle All the Way', '1996', 'Brian Levant'], ['White Christmas', '1954', 'Michael Curtiz'], ['The Year Without a Santa Claus', '1974', 'Jules Bass, Arthur Rankin Jr.'], [\"Santa Claus Is Comin' to Town\", '1970', 'Jules Bass, Arthur Rankin Jr.'], [\"The Bishop's Wife\", '1947', 'Henry Koster'], ['Just Friends', '2005', 'Roger Kumble'], ['Surviving Christmas', '2004', 'Mike Mitchell'], ['Serendipity', '2001', 'Peter Chelsom'], ['Christmas in Boston', '2005', 'Neill Fearnley'], ['Un conte de NoÃ«l', '2008', 'Arnaud Desplechin'], ['Christmas in Connecticut', '1945', 'Peter Godfrey'], ['Fatman', '2020', 'Eshom Nelms, Ian Nelms'], ['Christmas with the Kranks', '2004', 'Joe Roth'], ['Holiday Affair', '1949', 'Don Hartman'], ['Arthur Christmas', '2011', 'Barry Cook, Sarah Smith'], ['Crown for Christmas', '2015', 'Alex Zamm'], ['12 Dates of Christmas', '2011', 'James Hayman'], [\"Kristin's Christmas Past\", '2013', 'Jim Fall'], ['The Lemon Drop Kid', '1951', 'Frank Tashlin, Sidney Lanfield'], ['12 Days of Giving', '2017', 'Christine Conradt'], ['It Happened on Fifth Avenue', '1947', 'Roy Del Ruth'], ['A Very Harold & Kumar 3D Christmas', '2011', 'Todd Strauss-Schulson'], ['Operation Christmas Drop', '2020', 'Martin Wood'], ['Trapped in Paradise', '1994', 'George Gallo'], ['Nativity!', '2009', 'Debbie Isitt'], ['Holiday in Handcuffs', '2006', 'Ron Underwood'], ['Frosty the Snowman', '1969', 'Jules Bass, Arthur Rankin Jr.'], ['Mixed Nuts', '1994', 'Nora Ephron'], ['Mrs. Miracle', '2009', 'Michael M. Scott'], ['Nothing Like the Holidays', '2008', 'Alfredo Rodriguez de Villa'], ['Friday After Next', '2002', 'Marcus Raboy'], ['Next Stop, Christmas', '2021', 'Dustin Rikert'], [\"Pete's Christmas\", '2013', 'Nisha Ganatra'], ['Deck the Halls', '2006', 'John Whitesell'], [\"I'll Be Home for Christmas\", '1998', 'Arlene Sanford'], ['A Boyfriend for Christmas', '2004', 'Kevin Connor'], ['Four Christmases', '2008', 'Seth Gordon'], ['The Most Wonderful Time of the Year', '2008', 'Michael M. Scott'], [\"Grumpy Cat's Worst Christmas Ever\", '2014', 'Tim Hill'], ['A Grandpa for Christmas', '2007', 'Harvey Frost'], ['Christmas Mail', '2010', 'John Murlowski'], [\"Ira Finkelstein's Christmas\", '2012', 'Sue Corcoran'], ['Window Wonderland', '2013', 'Michael M. Scott'], ['Ernest Saves Christmas', '1988', 'John R. Cherry III'], ['All I Want for Christmas', '1991', 'Robert Lieberman'], ['The Ultimate Christmas Present', '2000', 'Greg Beeman'], ['Jack Frost', '1998', 'Troy Miller']]\n"
     ]
    }
   ],
   "source": [
    "def copy_genre(christmasmovie,g):\n",
    "    genres = []\n",
    "    for movie in christmasmovie:\n",
    "        movies = movie[0].split(';')\n",
    "        title = movies[0]\n",
    "        year = movies[1]\n",
    "        director = movies[2]\n",
    "        genre = movies[-1]\n",
    "        if g in genre:\n",
    "            genres.append([title,year,director])\n",
    "            \n",
    "    print(f\"Number of movies in the genre '{g}': {len(genres)}\")    \n",
    "    return genres     \n",
    "\n",
    "ugenres = copy_genre(christmasmovie,filters)\n",
    "print(ugenres)"
   ]
  },
  {
   "cell_type": "code",
   "execution_count": 121,
   "metadata": {},
   "outputs": [],
   "source": [
    "def write_list(ugenres,filename):\n",
    "    with open(filename, 'w') as newlists: \n",
    "        for i in ugenres:\n",
    "            newlistsrow = '\\t'.join(i)\n",
    "            newlists.write(newlistsrow + '\\n')\n",
    "        \n",
    "write_list(ugenres,'genrefilter.txt')"
   ]
  },
  {
   "cell_type": "code",
   "execution_count": 124,
   "metadata": {},
   "outputs": [],
   "source": [
    "def main():\n",
    "    print(\"File christmas_movies.txt read to a list.\")\n",
    "    filename = 'christmasmovie.txt'  \n",
    "    details = read_list(filename)\n",
    "    user1=input(\"Please enter a genre to filter:\")\n",
    "    filtergenres=copy_genre(details,user1)\n",
    "    filtertxt='filtertxt.txt'\n",
    "    new=write_list(filtergenres,filtertxt)\n",
    "    print(\"genrefilter.txt is open\")\n"
   ]
  },
  {
   "cell_type": "code",
   "execution_count": 125,
   "metadata": {},
   "outputs": [
    {
     "name": "stdout",
     "output_type": "stream",
     "text": [
      "File christmas_movies.txt read to a list.\n",
      "Please enter a genre to filter:Comedy\n",
      "Number of movies in the genre 'Comedy': 76\n",
      "Filter genre .txt is open\n"
     ]
    }
   ],
   "source": [
    "main()"
   ]
  },
  {
   "cell_type": "code",
   "execution_count": null,
   "metadata": {},
   "outputs": [],
   "source": []
  }
 ],
 "metadata": {
  "kernelspec": {
   "display_name": "Python 3",
   "language": "python",
   "name": "python3"
  },
  "language_info": {
   "codemirror_mode": {
    "name": "ipython",
    "version": 3
   },
   "file_extension": ".py",
   "mimetype": "text/x-python",
   "name": "python",
   "nbconvert_exporter": "python",
   "pygments_lexer": "ipython3",
   "version": "3.8.5"
  }
 },
 "nbformat": 4,
 "nbformat_minor": 4
}
